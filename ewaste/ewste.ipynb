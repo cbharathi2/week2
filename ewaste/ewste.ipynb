{
 "cells": [
  {
   "cell_type": "code",
   "execution_count": null,
   "id": "4763b755",
   "metadata": {},
   "outputs": [],
   "source": [
    "import os\n",
    "import numpy as np\n",
    "import matplotlib.pyplot as plt\n",
    "import seaborn as sns\n",
    "import tensorflow as tf\n",
    "from tensorflow.keras.preprocessing.image import ImageDataGenerator\n",
    "from tensorflow.keras.applications import EfficientNetV2B0\n",
    "from tensorflow.keras.layers import GlobalAveragePooling2D, Dropout, Dense\n",
    "from tensorflow.keras.models import Model, load_model\n",
    "from tensorflow.keras.callbacks import EarlyStopping, ModelCheckpoint\n",
    "from sklearn.metrics import confusion_matrix, classification_report\n",
    "import gradio as gr"
   ]
  },
  {
   "cell_type": "code",
   "execution_count": null,
   "id": "dd9d9f0e",
   "metadata": {},
   "outputs": [],
   "source": [
    "# --- Paths and Parameters ---\n",
    "dataset_path = \"dataset\"\n",
    "train_dir = os.path.join(dataset_path, \"train\")\n",
    "val_dir = os.path.join(dataset_path, \"val\")\n",
    "test_dir = os.path.join(dataset_path, \"test\")"
   ]
  },
  {
   "cell_type": "code",
   "execution_count": null,
   "id": "eb93d384",
   "metadata": {},
   "outputs": [],
   "source": [
    "IMAGE_SIZE = (224, 224)\n",
    "BATCH_SIZE = 32\n",
    "EPOCHS = 15"
   ]
  },
  {
   "cell_type": "code",
   "execution_count": null,
   "id": "1b28ad4d",
   "metadata": {},
   "outputs": [],
   "source": [
    "# --- Data Generators ---\n",
    "train_gen = ImageDataGenerator(rescale=1./255, rotation_range=20, zoom_range=0.2,\n",
    "                               width_shift_range=0.2, height_shift_range=0.2,\n",
    "                               horizontal_flip=True)\n",
    "val_test_gen = ImageDataGenerator(rescale=1./255)"
   ]
  },
  {
   "cell_type": "code",
   "execution_count": null,
   "id": "d1877800",
   "metadata": {},
   "outputs": [],
   "source": [
    "train_data = train_gen.flow_from_directory(train_dir, target_size=IMAGE_SIZE, batch_size=BATCH_SIZE, class_mode='categorical', shuffle=True)\n",
    "val_data = val_test_gen.flow_from_directory(val_dir, target_size=IMAGE_SIZE, batch_size=1, class_mode='categorical', shuffle=False)\n",
    "test_data = val_test_gen.flow_from_directory(test_dir, target_size=IMAGE_SIZE, batch_size=1, class_mode='categorical', shuffle=False)"
   ]
  },
  {
   "cell_type": "code",
   "execution_count": null,
   "id": "42ab067e",
   "metadata": {
    "lines_to_next_cell": 1
   },
   "outputs": [],
   "source": [
    "class_labels = list(train_data.class_indices.keys())"
   ]
  },
  {
   "cell_type": "code",
   "execution_count": null,
   "id": "0f510f70",
   "metadata": {
    "lines_to_next_cell": 1
   },
   "outputs": [],
   "source": [
    "# --- Class Distribution Plot ---\n",
    "def plot_distribution(generator, title):\n",
    "    labels = generator.classes\n",
    "    plt.figure(figsize=(8, 4))\n",
    "    sns.countplot(x=labels)\n",
    "    plt.xticks(ticks=np.arange(len(class_labels)), labels=class_labels, rotation=45)\n",
    "    plt.title(f'{title} Distribution')\n",
    "    plt.xlabel('Class')\n",
    "    plt.ylabel('Count')\n",
    "    plt.tight_layout()\n",
    "    plt.show()"
   ]
  },
  {
   "cell_type": "code",
   "execution_count": null,
   "id": "54ca9a36",
   "metadata": {},
   "outputs": [],
   "source": [
    "plot_distribution(train_data, \"Train\")\n",
    "plot_distribution(val_data, \"Validation\")\n",
    "plot_distribution(test_data, \"Test\")"
   ]
  },
  {
   "cell_type": "code",
   "execution_count": null,
   "id": "543f8a0d",
   "metadata": {},
   "outputs": [],
   "source": [
    "# --- Model Building ---\n",
    "base_model = EfficientNetV2B0(include_top=False, weights='imagenet', input_shape=(224, 224, 3))"
   ]
  },
  {
   "cell_type": "code",
   "execution_count": null,
   "id": "c324f685",
   "metadata": {},
   "outputs": [],
   "source": [
    "# ✅ Enable Fine-tuning\n",
    "for layer in base_model.layers:\n",
    "    layer.trainable = True"
   ]
  },
  {
   "cell_type": "code",
   "execution_count": null,
   "id": "781e1dc4",
   "metadata": {},
   "outputs": [],
   "source": [
    "x = base_model.output\n",
    "x = GlobalAveragePooling2D()(x)\n",
    "x = Dropout(0.3)(x)\n",
    "output = Dense(len(class_labels), activation='softmax')(x)\n",
    "model = Model(inputs=base_model.input, outputs=output)"
   ]
  },
  {
   "cell_type": "code",
   "execution_count": null,
   "id": "714ab812",
   "metadata": {},
   "outputs": [],
   "source": [
    "# ✅ Compile with lower learning rate for fine-tuning\n",
    "model.compile(optimizer=tf.keras.optimizers.Adam(learning_rate=1e-5),\n",
    "              loss='categorical_crossentropy', metrics=['accuracy'])"
   ]
  },
  {
   "cell_type": "code",
   "execution_count": null,
   "id": "882c3022",
   "metadata": {},
   "outputs": [],
   "source": [
    "# --- Callbacks and Training ---\n",
    "os.makedirs(\"model\", exist_ok=True)\n",
    "callbacks = [\n",
    "    EarlyStopping(patience=3, monitor='val_loss', restore_best_weights=True),\n",
    "    ModelCheckpoint(\"model/best_model.keras\", monitor='val_accuracy', save_best_only=True)\n",
    "]\n",
    "history = model.fit(train_data, validation_data=val_data, epochs=EPOCHS, callbacks=callbacks)"
   ]
  },
  {
   "cell_type": "code",
   "execution_count": null,
   "id": "5c55f70c",
   "metadata": {},
   "outputs": [],
   "source": [
    "# --- Accuracy and Loss Plot ---\n",
    "plt.figure(figsize=(12, 5))\n",
    "plt.subplot(1, 2, 1)\n",
    "plt.plot(history.history['accuracy'], label='Train Acc')\n",
    "plt.plot(history.history['val_accuracy'], label='Val Acc')\n",
    "plt.title('Accuracy')\n",
    "plt.legend()"
   ]
  },
  {
   "cell_type": "code",
   "execution_count": null,
   "id": "60a13bdf",
   "metadata": {},
   "outputs": [],
   "source": [
    "plt.subplot(1, 2, 2)\n",
    "plt.plot(history.history['loss'], label='Train Loss')\n",
    "plt.plot(history.history['val_loss'], label='Val Loss')\n",
    "plt.title('Loss')\n",
    "plt.legend()\n",
    "plt.tight_layout()\n",
    "plt.show()"
   ]
  },
  {
   "cell_type": "code",
   "execution_count": null,
   "id": "43c17869",
   "metadata": {},
   "outputs": [],
   "source": [
    "# --- Save Model ---\n",
    "model.save(\"model/final_model_saved.keras\")\n",
    "print(\"\\n✅ Model saved to 'model/final_model_saved.keras'\")"
   ]
  },
  {
   "cell_type": "code",
   "execution_count": null,
   "id": "6ecf1602",
   "metadata": {},
   "outputs": [],
   "source": [
    "# --- Evaluation ---\n",
    "y_probs = model.predict(test_data, verbose=1)\n",
    "y_preds = np.argmax(y_probs, axis=1)\n",
    "y_true = test_data.classes"
   ]
  },
  {
   "cell_type": "code",
   "execution_count": null,
   "id": "ab09b020",
   "metadata": {},
   "outputs": [],
   "source": [
    "print(\"\\nClassification Report:\")\n",
    "print(classification_report(y_true, y_preds, target_names=class_labels))"
   ]
  },
  {
   "cell_type": "code",
   "execution_count": null,
   "id": "76cf7e9e",
   "metadata": {},
   "outputs": [],
   "source": [
    "cm = confusion_matrix(y_true, y_preds)"
   ]
  },
  {
   "cell_type": "code",
   "execution_count": null,
   "id": "1b66baa2",
   "metadata": {},
   "outputs": [],
   "source": [
    "# Display correct format for confusion matrix\n",
    "print(\"\\nConfusion Matrix (Raw Counts):\")\n",
    "np.set_printoptions(linewidth=300)\n",
    "print(cm)"
   ]
  },
  {
   "cell_type": "code",
   "execution_count": null,
   "id": "c17f94e6",
   "metadata": {},
   "outputs": [],
   "source": [
    "plt.figure(figsize=(10, 8))\n",
    "sns.heatmap(cm, annot=True, fmt='d', cmap='Blues',\n",
    "            xticklabels=class_labels,\n",
    "            yticklabels=class_labels)\n",
    "plt.title('Confusion Matrix')\n",
    "plt.xlabel('Predicted')\n",
    "plt.ylabel('True')\n",
    "plt.xticks(rotation=45)\n",
    "plt.yticks(rotation=0)\n",
    "plt.tight_layout()\n",
    "plt.show()"
   ]
  },
  {
   "cell_type": "code",
   "execution_count": null,
   "id": "6a726259",
   "metadata": {
    "lines_to_next_cell": 1
   },
   "outputs": [],
   "source": [
    "# --- Gradio Interface ---\n",
    "loaded_model = load_model(\"model/final_model_saved.keras\")"
   ]
  },
  {
   "cell_type": "code",
   "execution_count": null,
   "id": "2103b3da",
   "metadata": {
    "lines_to_next_cell": 1
   },
   "outputs": [],
   "source": [
    "def classify_image(img):\n",
    "    img = img.resize(IMAGE_SIZE)\n",
    "    img_array = tf.keras.preprocessing.image.img_to_array(img)\n",
    "    img_array = img_array / 255.0\n",
    "    img_array = np.expand_dims(img_array, axis=0)\n",
    "    predictions = loaded_model.predict(img_array)[0]\n",
    "    predicted_label = class_labels[np.argmax(predictions)]\n",
    "    return {class_labels[i]: float(predictions[i]) for i in range(len(class_labels))}, predicted_label"
   ]
  },
  {
   "cell_type": "code",
   "execution_count": null,
   "id": "364e3500",
   "metadata": {},
   "outputs": [],
   "source": [
    "demo = gr.Interface(\n",
    "    fn=classify_image,\n",
    "    inputs=gr.Image(type=\"pil\"),\n",
    "    outputs=[gr.Label(num_top_classes=3), gr.Textbox(label=\"Predicted Class\")],\n",
    "    title=\"E-Waste Image Classifier\",\n",
    "    description=\"Upload an image to classify it into one of the 10 categories.\"\n",
    ")"
   ]
  },
  {
   "cell_type": "code",
   "execution_count": null,
   "id": "0c14b8f3",
   "metadata": {},
   "outputs": [],
   "source": [
    "demo.launch()"
   ]
  }
 ],
 "metadata": {
  "jupytext": {
   "cell_metadata_filter": "-all",
   "main_language": "python",
   "notebook_metadata_filter": "-all"
  }
 },
 "nbformat": 4,
 "nbformat_minor": 5
}
